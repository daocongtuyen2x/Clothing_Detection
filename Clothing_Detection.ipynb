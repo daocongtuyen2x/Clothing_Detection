{
  "nbformat": 4,
  "nbformat_minor": 0,
  "metadata": {
    "colab": {
      "name": "Bản sao của DeepFashion.ipynb",
      "provenance": [],
      "collapsed_sections": []
    },
    "kernelspec": {
      "name": "python3",
      "display_name": "Python 3"
    },
    "language_info": {
      "name": "python"
    },
    "accelerator": "GPU"
  },
  "cells": [
    {
      "cell_type": "code",
      "metadata": {
        "id": "duuH7_YlocU7"
      },
      "source": [
        "!gdown --id 1L9m9R6OKFowUwGuJCUqYQRBgNwX4****\n",
        "!unzip 'df2_minix.zip'"
      ],
      "execution_count": null,
      "outputs": []
    },
    {
      "cell_type": "code",
      "metadata": {
        "id": "CZZg-5SpovRg"
      },
      "source": [
        "!git clone https://github.com/ultralytics/yolov5\n",
        "%cd yolov5\n",
        "!pip install -r requirements.txt"
      ],
      "execution_count": null,
      "outputs": []
    },
    {
      "cell_type": "code",
      "metadata": {
        "colab": {
          "base_uri": "https://localhost:8080/",
          "height": 35
        },
        "id": "HVJ3v-X0ovUF",
        "outputId": "3757fcff-36c5-4504-95fe-2050c12f70ce"
      },
      "source": [
        "labels_str = {1:'short_sleeve_top', 2:'long_sleeve_top', 3:'short sleeve outwear', 4:'long sleeve outwear', 5:'vest', 6:'represents sling', 7:'shorts', 8:'trousers', 9:'skirt', 10:'short sleeve dress', 11:'long sleeve dress', 12:'vest dress',13:'sling dress'}\n",
        "labels_str[2]"
      ],
      "execution_count": null,
      "outputs": [
        {
          "output_type": "execute_result",
          "data": {
            "application/vnd.google.colaboratory.intrinsic+json": {
              "type": "string"
            },
            "text/plain": [
              "'long_sleeve_top'"
            ]
          },
          "metadata": {},
          "execution_count": 3
        }
      ]
    },
    {
      "cell_type": "code",
      "metadata": {
        "id": "V-pKkGCx46cS",
        "colab": {
          "base_uri": "https://localhost:8080/"
        },
        "outputId": "fd3ee2e8-14ba-4ba7-8c72-33219ee61480"
      },
      "source": [
        "!python train.py --img 416 --batch 32 --epochs 20 --data coco.yaml --weights yolov5s.pt --cache"
      ],
      "execution_count": null,
      "outputs": [
        {
          "output_type": "stream",
          "name": "stdout",
          "text": [
            "\u001b[34m\u001b[1mtrain: \u001b[0mweights=yolov5s.pt, cfg=, data=coco.yaml, hyp=data/hyps/hyp.scratch.yaml, epochs=20, batch_size=32, imgsz=416, rect=False, resume=False, nosave=False, noval=False, noautoanchor=False, evolve=None, bucket=, cache=ram, image_weights=False, device=, multi_scale=False, single_cls=False, adam=False, sync_bn=False, workers=8, project=runs/train, name=exp, exist_ok=False, quad=False, linear_lr=False, label_smoothing=0.0, patience=100, freeze=0, save_period=-1, local_rank=-1, entity=None, upload_dataset=False, bbox_interval=-1, artifact_alias=latest\n",
            "remote: Enumerating objects: 1, done.\u001b[K\n",
            "remote: Counting objects: 100% (1/1), done.\u001b[K\n",
            "remote: Total 1 (delta 0), reused 0 (delta 0), pack-reused 0\u001b[K\n",
            "Unpacking objects: 100% (1/1), done.\n",
            "From https://github.com/ultralytics/yolov5\n",
            "   6903251..def7a0f  master     -> origin/master\n",
            "\u001b[34m\u001b[1mgithub: \u001b[0m⚠️ YOLOv5 is out of date by 1 commit. Use `git pull` or `git clone https://github.com/ultralytics/yolov5` to update.\n",
            "YOLOv5 🚀 v6.0-83-g6903251 torch 1.9.0+cu111 CUDA:0 (Tesla K80, 11441MiB)\n",
            "\n",
            "\u001b[34m\u001b[1mhyperparameters: \u001b[0mlr0=0.01, lrf=0.1, momentum=0.937, weight_decay=0.0005, warmup_epochs=3.0, warmup_momentum=0.8, warmup_bias_lr=0.1, box=0.05, cls=0.5, cls_pw=1.0, obj=1.0, obj_pw=1.0, iou_t=0.2, anchor_t=4.0, fl_gamma=0.0, hsv_h=0.015, hsv_s=0.7, hsv_v=0.4, degrees=0.0, translate=0.1, scale=0.5, shear=0.0, perspective=0.0, flipud=0.0, fliplr=0.5, mosaic=1.0, mixup=0.0, copy_paste=0.0\n",
            "\u001b[34m\u001b[1mWeights & Biases: \u001b[0mrun 'pip install wandb' to automatically track and visualize YOLOv5 🚀 runs (RECOMMENDED)\n",
            "\u001b[34m\u001b[1mTensorBoard: \u001b[0mStart with 'tensorboard --logdir runs/train', view at http://localhost:6006/\n",
            "Overriding model.yaml nc=80 with nc=14\n",
            "\n",
            "                 from  n    params  module                                  arguments                     \n",
            "  0                -1  1      3520  models.common.Conv                      [3, 32, 6, 2, 2]              \n",
            "  1                -1  1     18560  models.common.Conv                      [32, 64, 3, 2]                \n",
            "  2                -1  1     18816  models.common.C3                        [64, 64, 1]                   \n",
            "  3                -1  1     73984  models.common.Conv                      [64, 128, 3, 2]               \n",
            "  4                -1  2    115712  models.common.C3                        [128, 128, 2]                 \n",
            "  5                -1  1    295424  models.common.Conv                      [128, 256, 3, 2]              \n",
            "  6                -1  3    625152  models.common.C3                        [256, 256, 3]                 \n",
            "  7                -1  1   1180672  models.common.Conv                      [256, 512, 3, 2]              \n",
            "  8                -1  1   1182720  models.common.C3                        [512, 512, 1]                 \n",
            "  9                -1  1    656896  models.common.SPPF                      [512, 512, 5]                 \n",
            " 10                -1  1    131584  models.common.Conv                      [512, 256, 1, 1]              \n",
            " 11                -1  1         0  torch.nn.modules.upsampling.Upsample    [None, 2, 'nearest']          \n",
            " 12           [-1, 6]  1         0  models.common.Concat                    [1]                           \n",
            " 13                -1  1    361984  models.common.C3                        [512, 256, 1, False]          \n",
            " 14                -1  1     33024  models.common.Conv                      [256, 128, 1, 1]              \n",
            " 15                -1  1         0  torch.nn.modules.upsampling.Upsample    [None, 2, 'nearest']          \n",
            " 16           [-1, 4]  1         0  models.common.Concat                    [1]                           \n",
            " 17                -1  1     90880  models.common.C3                        [256, 128, 1, False]          \n",
            " 18                -1  1    147712  models.common.Conv                      [128, 128, 3, 2]              \n",
            " 19          [-1, 14]  1         0  models.common.Concat                    [1]                           \n",
            " 20                -1  1    296448  models.common.C3                        [256, 256, 1, False]          \n",
            " 21                -1  1    590336  models.common.Conv                      [256, 256, 3, 2]              \n",
            " 22          [-1, 10]  1         0  models.common.Concat                    [1]                           \n",
            " 23                -1  1   1182720  models.common.C3                        [512, 512, 1, False]          \n",
            " 24      [17, 20, 23]  1     51243  models.yolo.Detect                      [14, [[10, 13, 16, 30, 33, 23], [30, 61, 62, 45, 59, 119], [116, 90, 156, 198, 373, 326]], [128, 256, 512]]\n",
            "Model Summary: 270 layers, 7057387 parameters, 7057387 gradients, 16.0 GFLOPs\n",
            "\n",
            "Transferred 343/349 items from yolov5s.pt\n",
            "Scaled weight_decay = 0.0005\n",
            "\u001b[34m\u001b[1moptimizer:\u001b[0m SGD with parameter groups 57 weight, 60 weight (no decay), 60 bias\n",
            "\u001b[34m\u001b[1malbumentations: \u001b[0mversion 1.0.3 required by YOLOv5, but version 0.1.12 is currently installed\n",
            "\u001b[34m\u001b[1mtrain: \u001b[0mScanning 'data/df2_mini/labels/train.cache' images and labels... 10000 found, 0 missing, 0 empty, 0 corrupted: 100% 10000/10000 [00:00<?, ?it/s]\n",
            "\u001b[34m\u001b[1mtrain: \u001b[0mCaching images (3.7GB ram): 100% 10000/10000 [00:45<00:00, 219.44it/s]\n",
            "\u001b[34m\u001b[1mval: \u001b[0mScanning 'data/df2_mini/labels/val.cache' images and labels... 1000 found, 0 missing, 0 empty, 0 corrupted: 100% 1000/1000 [00:00<?, ?it/s]\n",
            "\u001b[34m\u001b[1mval: \u001b[0mCaching images (0.4GB ram): 100% 1000/1000 [00:07<00:00, 139.05it/s]\n",
            "[W pthreadpool-cpp.cc:90] Warning: Leaking Caffe2 thread-pool after fork. (function pthreadpool)\n",
            "[W pthreadpool-cpp.cc:90] Warning: Leaking Caffe2 thread-pool after fork. (function pthreadpool)\n",
            "Plotting labels... \n",
            "\n",
            "\u001b[34m\u001b[1mautoanchor: \u001b[0mAnalyzing anchors... anchors/target = 3.93, Best Possible Recall (BPR) = 1.0000\n",
            "Image sizes 416 train, 416 val\n",
            "Using 2 dataloader workers\n",
            "Logging results to \u001b[1mruns/train/exp4\u001b[0m\n",
            "Starting training for 20 epochs...\n",
            "\n",
            "     Epoch   gpu_mem       box       obj       cls    labels  img_size\n",
            "      0/19     2.81G    0.0557   0.02644   0.05912        51       416: 100% 313/313 [05:17<00:00,  1.01s/it]\n",
            "               Class     Images     Labels          P          R     mAP@.5 mAP@.5:.95: 100% 16/16 [00:11<00:00,  1.43it/s]\n",
            "                 all       1000       1464      0.485      0.264      0.147     0.0852\n",
            "\n",
            "     Epoch   gpu_mem       box       obj       cls    labels  img_size\n",
            "      1/19     3.54G   0.03876   0.02033   0.04795        47       416: 100% 313/313 [05:13<00:00,  1.00s/it]\n",
            "               Class     Images     Labels          P          R     mAP@.5 mAP@.5:.95: 100% 16/16 [00:11<00:00,  1.45it/s]\n",
            "                 all       1000       1464      0.455      0.361      0.235      0.152\n",
            "\n",
            "     Epoch   gpu_mem       box       obj       cls    labels  img_size\n",
            "      2/19     3.54G   0.03559   0.01975   0.04455        65       416: 100% 313/313 [05:13<00:00,  1.00s/it]\n",
            "               Class     Images     Labels          P          R     mAP@.5 mAP@.5:.95: 100% 16/16 [00:11<00:00,  1.41it/s]\n",
            "                 all       1000       1464      0.289      0.368      0.206      0.122\n",
            "\n",
            "     Epoch   gpu_mem       box       obj       cls    labels  img_size\n",
            "      3/19     3.54G    0.0331   0.02038   0.04351        65       416: 100% 313/313 [05:14<00:00,  1.01s/it]\n",
            "               Class     Images     Labels          P          R     mAP@.5 mAP@.5:.95: 100% 16/16 [00:11<00:00,  1.43it/s]\n",
            "                 all       1000       1464      0.593      0.343       0.27      0.169\n",
            "\n",
            "     Epoch   gpu_mem       box       obj       cls    labels  img_size\n",
            "      4/19     3.54G   0.03104   0.01984   0.04095        71       416: 100% 313/313 [05:13<00:00,  1.00s/it]\n",
            "               Class     Images     Labels          P          R     mAP@.5 mAP@.5:.95: 100% 16/16 [00:11<00:00,  1.45it/s]\n",
            "                 all       1000       1464       0.66        0.3      0.294      0.199\n",
            "\n",
            "     Epoch   gpu_mem       box       obj       cls    labels  img_size\n",
            "      5/19     3.54G   0.02917   0.01941    0.0391        74       416: 100% 313/313 [05:11<00:00,  1.01it/s]\n",
            "               Class     Images     Labels          P          R     mAP@.5 mAP@.5:.95: 100% 16/16 [00:11<00:00,  1.45it/s]\n",
            "                 all       1000       1464      0.445      0.432      0.353      0.244\n",
            "\n",
            "     Epoch   gpu_mem       box       obj       cls    labels  img_size\n",
            "      6/19     3.54G    0.0285   0.01871   0.03793        63       416: 100% 313/313 [05:11<00:00,  1.01it/s]\n",
            "               Class     Images     Labels          P          R     mAP@.5 mAP@.5:.95: 100% 16/16 [00:11<00:00,  1.45it/s]\n",
            "                 all       1000       1464      0.634      0.355      0.341       0.24\n",
            "\n",
            "     Epoch   gpu_mem       box       obj       cls    labels  img_size\n",
            "      7/19     3.54G   0.02754   0.01848   0.03676        67       416: 100% 313/313 [05:11<00:00,  1.00it/s]\n",
            "               Class     Images     Labels          P          R     mAP@.5 mAP@.5:.95: 100% 16/16 [00:11<00:00,  1.45it/s]\n",
            "                 all       1000       1464       0.46      0.378       0.33      0.231\n",
            "\n",
            "     Epoch   gpu_mem       box       obj       cls    labels  img_size\n",
            "      8/19     3.54G    0.0268   0.01835   0.03528        57       416: 100% 313/313 [05:11<00:00,  1.01it/s]\n",
            "               Class     Images     Labels          P          R     mAP@.5 mAP@.5:.95: 100% 16/16 [00:10<00:00,  1.46it/s]\n",
            "                 all       1000       1464      0.444      0.455      0.355      0.246\n",
            "\n",
            "     Epoch   gpu_mem       box       obj       cls    labels  img_size\n",
            "      9/19     3.54G   0.02584   0.01765   0.03466        60       416: 100% 313/313 [05:10<00:00,  1.01it/s]\n",
            "               Class     Images     Labels          P          R     mAP@.5 mAP@.5:.95: 100% 16/16 [00:10<00:00,  1.47it/s]\n",
            "                 all       1000       1464      0.479      0.512      0.406      0.288\n",
            "\n",
            "     Epoch   gpu_mem       box       obj       cls    labels  img_size\n",
            "     10/19     3.54G   0.02518   0.01738    0.0335        71       416: 100% 313/313 [05:11<00:00,  1.00it/s]\n",
            "               Class     Images     Labels          P          R     mAP@.5 mAP@.5:.95: 100% 16/16 [00:10<00:00,  1.46it/s]\n",
            "                 all       1000       1464      0.492      0.499      0.444      0.328\n",
            "\n",
            "     Epoch   gpu_mem       box       obj       cls    labels  img_size\n",
            "     11/19     3.54G   0.02445   0.01694   0.03282        59       416: 100% 313/313 [05:12<00:00,  1.00it/s]\n",
            "               Class     Images     Labels          P          R     mAP@.5 mAP@.5:.95: 100% 16/16 [00:10<00:00,  1.46it/s]\n",
            "                 all       1000       1464      0.582      0.464      0.428      0.312\n",
            "\n",
            "     Epoch   gpu_mem       box       obj       cls    labels  img_size\n",
            "     12/19     3.54G   0.02375   0.01665   0.03164        52       416: 100% 313/313 [05:12<00:00,  1.00it/s]\n",
            "               Class     Images     Labels          P          R     mAP@.5 mAP@.5:.95: 100% 16/16 [00:11<00:00,  1.45it/s]\n",
            "                 all       1000       1464      0.615      0.463      0.457      0.339\n",
            "\n",
            "     Epoch   gpu_mem       box       obj       cls    labels  img_size\n",
            "     13/19     3.54G   0.02299   0.01653   0.03071        69       416: 100% 313/313 [05:10<00:00,  1.01it/s]\n",
            "               Class     Images     Labels          P          R     mAP@.5 mAP@.5:.95: 100% 16/16 [00:10<00:00,  1.47it/s]\n",
            "                 all       1000       1464      0.521      0.492      0.469      0.355\n",
            "\n",
            "     Epoch   gpu_mem       box       obj       cls    labels  img_size\n",
            "     14/19     3.54G    0.0225   0.01597   0.02963        59       416: 100% 313/313 [05:11<00:00,  1.01it/s]\n",
            "               Class     Images     Labels          P          R     mAP@.5 mAP@.5:.95: 100% 16/16 [00:10<00:00,  1.47it/s]\n",
            "                 all       1000       1464      0.659      0.455      0.479      0.362\n",
            "\n",
            "     Epoch   gpu_mem       box       obj       cls    labels  img_size\n",
            "     15/19     3.54G   0.02182   0.01587   0.02865        64       416: 100% 313/313 [05:11<00:00,  1.00it/s]\n",
            "               Class     Images     Labels          P          R     mAP@.5 mAP@.5:.95: 100% 16/16 [00:11<00:00,  1.44it/s]\n",
            "                 all       1000       1464      0.641      0.484      0.476      0.365\n",
            "\n",
            "     Epoch   gpu_mem       box       obj       cls    labels  img_size\n",
            "     16/19     3.54G    0.0213   0.01545   0.02785        71       416: 100% 313/313 [05:10<00:00,  1.01it/s]\n",
            "               Class     Images     Labels          P          R     mAP@.5 mAP@.5:.95: 100% 16/16 [00:10<00:00,  1.46it/s]\n",
            "                 all       1000       1464      0.637      0.502      0.482      0.369\n",
            "\n",
            "     Epoch   gpu_mem       box       obj       cls    labels  img_size\n",
            "     17/19     3.54G   0.02087   0.01525   0.02749        68       416: 100% 313/313 [05:10<00:00,  1.01it/s]\n",
            "               Class     Images     Labels          P          R     mAP@.5 mAP@.5:.95: 100% 16/16 [00:10<00:00,  1.46it/s]\n",
            "                 all       1000       1464       0.58        0.5      0.493      0.377\n",
            "\n",
            "     Epoch   gpu_mem       box       obj       cls    labels  img_size\n",
            "     18/19     3.54G    0.0202   0.01497   0.02624        59       416: 100% 313/313 [05:11<00:00,  1.00it/s]\n",
            "               Class     Images     Labels          P          R     mAP@.5 mAP@.5:.95: 100% 16/16 [00:10<00:00,  1.46it/s]\n",
            "                 all       1000       1464      0.678       0.47      0.494      0.382\n",
            "\n",
            "     Epoch   gpu_mem       box       obj       cls    labels  img_size\n",
            "     19/19     3.54G   0.01993   0.01473   0.02606        64       416: 100% 313/313 [05:10<00:00,  1.01it/s]\n",
            "               Class     Images     Labels          P          R     mAP@.5 mAP@.5:.95: 100% 16/16 [00:10<00:00,  1.46it/s]\n",
            "                 all       1000       1464      0.565      0.519      0.503      0.394\n",
            "\n",
            "20 epochs completed in 1.799 hours.\n",
            "Optimizer stripped from runs/train/exp4/weights/last.pt, 14.4MB\n",
            "Optimizer stripped from runs/train/exp4/weights/best.pt, 14.4MB\n",
            "\n",
            "Validating runs/train/exp4/weights/best.pt...\n",
            "Fusing layers... \n",
            "Model Summary: 213 layers, 7047883 parameters, 0 gradients, 15.9 GFLOPs\n",
            "               Class     Images     Labels          P          R     mAP@.5 mAP@.5:.95: 100% 16/16 [00:13<00:00,  1.17it/s]\n",
            "                 all       1000       1464      0.564       0.52      0.503      0.394\n",
            "    short_sleeve_top       1000        335      0.653      0.799        0.8      0.651\n",
            "     long_sleeve_top       1000        198       0.56      0.646      0.638      0.504\n",
            "short sleeve outwear       1000          1          1          0      0.124      0.112\n",
            " long sleeve outwear       1000         28      0.326      0.679      0.402      0.321\n",
            "                vest       1000        102      0.679      0.519      0.631      0.463\n",
            "    represents sling       1000         22          1          0      0.127     0.0871\n",
            "              shorts       1000        110      0.596        0.7      0.706      0.542\n",
            "            trousers       1000        198      0.785      0.828      0.856      0.641\n",
            "               skirt       1000        212      0.591       0.75       0.71      0.566\n",
            "  short sleeve dress       1000        111      0.419      0.631      0.511      0.398\n",
            "   long sleeve dress       1000         56      0.343      0.429      0.286      0.243\n",
            "          vest dress       1000         65      0.385      0.785      0.629      0.512\n",
            "         sling dress       1000         26          0          0      0.122     0.0815\n",
            "Results saved to \u001b[1mruns/train/exp4\u001b[0m\n"
          ]
        }
      ]
    },
    {
      "cell_type": "code",
      "metadata": {
        "id": "DrWPFiR1ovW-"
      },
      "source": [
        "!python train.py --data coco.yaml --cfg yolov5s.yaml --weights '' --batch-size 32 --epochs 30"
      ],
      "execution_count": null,
      "outputs": []
    },
    {
      "cell_type": "code",
      "metadata": {
        "colab": {
          "base_uri": "https://localhost:8080/"
        },
        "id": "tdR6QtA3ovZo",
        "outputId": "6586007c-5beb-4e21-a8da-30550d8d2f80"
      },
      "source": [
        "!python detect.py --weights ./runs/train/exp6/weights/last.pt --img 416 --conf 0.25 --source 'data/images/test.jpg'"
      ],
      "execution_count": null,
      "outputs": [
        {
          "output_type": "stream",
          "name": "stdout",
          "text": [
            "\u001b[34m\u001b[1mdetect: \u001b[0mweights=['./runs/train/exp6/weights/last.pt'], source=data/images/test.jpg, imgsz=[416, 416], conf_thres=0.25, iou_thres=0.45, max_det=1000, device=, view_img=False, save_txt=False, save_conf=False, save_crop=False, nosave=False, classes=None, agnostic_nms=False, augment=False, visualize=False, update=False, project=runs/detect, name=exp, exist_ok=False, line_thickness=3, hide_labels=False, hide_conf=False, half=False, dnn=False\n",
            "YOLOv5 🚀 v6.0-83-g6903251 torch 1.9.0+cu111 CUDA:0 (Tesla K80, 11441MiB)\n",
            "\n",
            "Fusing layers... \n",
            "Model Summary: 213 layers, 7047883 parameters, 0 gradients, 15.9 GFLOPs\n",
            "image 1/1 /content/yolov5/data/images/test.jpg: 256x416 Done. (0.025s)\n",
            "Speed: 0.3ms pre-process, 25.0ms inference, 0.5ms NMS per image at shape (1, 3, 416, 416)\n",
            "Results saved to \u001b[1mruns/detect/exp2\u001b[0m\n"
          ]
        }
      ]
    },
    {
      "cell_type": "code",
      "metadata": {
        "id": "voRXjOhpovkW",
        "colab": {
          "base_uri": "https://localhost:8080/"
        },
        "outputId": "244b0761-7297-48dd-9046-7b0a38f43726"
      },
      "source": [
        "!python detect.py --weights best.pt --img 416 --conf 0.25 --source 'data/images/'"
      ],
      "execution_count": 4,
      "outputs": [
        {
          "output_type": "stream",
          "name": "stdout",
          "text": [
            "\u001b[34m\u001b[1mdetect: \u001b[0mweights=['best.pt'], source=data/images/, imgsz=[416, 416], conf_thres=0.25, iou_thres=0.45, max_det=1000, device=, view_img=False, save_txt=False, save_conf=False, save_crop=False, nosave=False, classes=None, agnostic_nms=False, augment=False, visualize=False, update=False, project=runs/detect, name=exp, exist_ok=False, line_thickness=3, hide_labels=False, hide_conf=False, half=False, dnn=False\n",
            "YOLOv5 🚀 v6.0-84-gdef7a0f torch 1.10.0+cu111 CUDA:0 (Tesla K80, 11441MiB)\n",
            "\n",
            "Fusing layers... \n",
            "Model Summary: 213 layers, 7047883 parameters, 0 gradients, 15.9 GFLOPs\n",
            "image 1/6 /content/yolov5/data/images/bus.jpg: 416x320 1 long_sleeve_top, 3 long sleeve outwears, 2 trouserss, Done. (0.025s)\n",
            "image 2/6 /content/yolov5/data/images/test.jpg: 256x416 1 short_sleeve_top, 1 trousers, Done. (0.025s)\n",
            "image 3/6 /content/yolov5/data/images/test2.jpg: 416x352 1 short_sleeve_top, Done. (0.026s)\n",
            "image 4/6 /content/yolov5/data/images/test3.jpg: 416x416 1 short_sleeve_top, 1 shorts, Done. (0.030s)\n",
            "image 5/6 /content/yolov5/data/images/test4.jpg: 416x416 2 short_sleeve_tops, 1 shorts, 2 trouserss, Done. (0.028s)\n",
            "image 6/6 /content/yolov5/data/images/zidane.jpg: 256x416 1 long sleeve outwear, Done. (0.025s)\n",
            "Speed: 0.3ms pre-process, 26.6ms inference, 1.4ms NMS per image at shape (1, 3, 416, 416)\n",
            "Results saved to \u001b[1mruns/detect/exp3\u001b[0m\n"
          ]
        }
      ]
    }
  ]
}